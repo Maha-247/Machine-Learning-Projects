{
 "cells": [
  {
   "cell_type": "markdown",
   "metadata": {},
   "source": [
    "SVM\n",
    "\n",
    "Support Vector Machines (SVMs, also support vector networks) are supervised learning models with associated learning algorithms that analyze data used for classification and regression analysis."
   ]
  },
  {
   "cell_type": "code",
   "execution_count": null,
   "metadata": {
    "vscode": {
     "languageId": "plaintext"
    }
   },
   "outputs": [],
   "source": [
    "# importing scikit learn with make_blobs\n",
    "from sklearn.datasets import make_blobs\n",
    " \n",
    "# creating datasets X containing n_samples\n",
    "# Y containing two classes\n",
    "X, Y = make_blobs(n_samples=500, centers=2,\n",
    "                  random_state=0, cluster_std=0.40)\n",
    "import matplotlib.pyplot as plt\n",
    "# plotting scatters \n",
    "plt.scatter(X[:, 0], X[:, 1], c=Y, s=50, cmap='spring');\n",
    "plt.show() "
   ]
  },
  {
   "cell_type": "code",
   "execution_count": null,
   "metadata": {},
   "outputs": [],
   "source": [
    "import random\n",
    "import numpy as np\n",
    "import pandas as pd\n",
    "import matplotlib.pyplot as plt\n",
    "def generate_random_dataset(size):\n",
    "    \"\"\" Generate a random dataset and that follows a quadratic  distribution\n",
    "    \"\"\"\n",
    "    x = []\n",
    "    y = []\n",
    "    target = []\n",
    "    for i in range(size):\n",
    "        # class zero\n",
    "        x.append(np.round(random.uniform(0, 2.5), 1))\n",
    "        y.append(np.round(random.uniform(0, 20), 1))\n",
    "        target.append(0)\n",
    "        # class one\n",
    "        x.append(np.round(random.uniform(1, 5), 2))\n",
    "        y.append(np.round(random.uniform(20, 25), 2))\n",
    "        target.append(1)\n",
    "        x.append(np.round(random.uniform(3, 5), 2))\n",
    "        y.append(np.round(random.uniform(5, 25), 2))\n",
    "        target.append(1)\n",
    "    df_x = pd.DataFrame(data=x)\n",
    "    df_y = pd.DataFrame(data=y)\n",
    "    df_target = pd.DataFrame(data=target)\n",
    "    data_frame = pd.concat([df_x, df_y], ignore_index=True, axis=1)\n",
    "    data_frame = pd.concat([data_frame, df_target], ignore_index=True, axis=1)\n",
    "    data_frame.columns = ['x', 'y', 'target']\n",
    "    return data_frame\n"
   ]
  }
 ],
 "metadata": {
  "language_info": {
   "name": "python"
  }
 },
 "nbformat": 4,
 "nbformat_minor": 2
}
