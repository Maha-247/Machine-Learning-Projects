{
 "cells": [
  {
   "cell_type": "markdown",
   "metadata": {},
   "source": [
    "SVM\n",
    "\n",
    "Support Vector Machines (SVMs, also support vector networks) are supervised learning models with associated learning algorithms that analyze data used for classification and regression analysis."
   ]
  },
  {
   "cell_type": "code",
   "execution_count": null,
   "metadata": {
    "vscode": {
     "languageId": "plaintext"
    }
   },
   "outputs": [],
   "source": [
    "# importing scikit learn with make_blobs\n",
    "from sklearn.datasets import make_blobs\n",
    " \n",
    "# creating datasets X containing n_samples\n",
    "# Y containing two classes\n",
    "X, Y = make_blobs(n_samples=500, centers=2,\n",
    "                  random_state=0, cluster_std=0.40)\n",
    "import matplotlib.pyplot as plt\n",
    "# plotting scatters \n",
    "plt.scatter(X[:, 0], X[:, 1], c=Y, s=50, cmap='spring');\n",
    "plt.show() "
   ]
  }
 ],
 "metadata": {
  "language_info": {
   "name": "python"
  }
 },
 "nbformat": 4,
 "nbformat_minor": 2
}
